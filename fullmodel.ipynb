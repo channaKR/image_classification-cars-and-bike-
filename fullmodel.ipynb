{
 "cells": [
  {
   "cell_type": "code",
   "execution_count": null,
   "id": "3f6508a0",
   "metadata": {},
   "outputs": [],
   "source": []
  },
  {
   "cell_type": "code",
   "execution_count": null,
   "id": "653f00a9",
   "metadata": {},
   "outputs": [
    {
     "name": "stdout",
     "output_type": "stream",
     "text": [
      "1/1 [==============================] - 0s 100ms/step\n",
      "1/1 [==============================] - 0s 118ms/step\n"
     ]
    }
   ],
   "source": [
    "import cv2\n",
    "from matplotlib import pyplot as plt\n",
    "import os\n",
    "import numpy as np\n",
    "from tensorflow.keras.preprocessing.image import load_img\n",
    "from tensorflow.keras.preprocessing.image import img_to_array\n",
    "from tensorflow.keras.models import load_model\n",
    "import tkinter as tk\n",
    "from tkinter import filedialog\n",
    "from tkinter.filedialog import askopenfile\n",
    "from PIL import Image, ImageTk\n",
    "windowsform = tk.Tk()\n",
    "windowsform.geometry(\"400x600\")  # Size of the window \n",
    "windowsform.maxsize(400, 600)\n",
    "windowsform.title('Test')\n",
    "my_font1=('times', 15, 'bold')\n",
    "labelheader = tk.Label(windowsform,text='Add Image',width=30,font=my_font1)  \n",
    "labelheader.grid(row=1,column=1)\n",
    "uploadbtn = tk.Button(windowsform, text='Upload File', \n",
    "   width=20,command = lambda:upload_file())\n",
    "uploadbtn.grid(row=2,column=1)\n",
    "location_text = tk.Label(windowsform,text='',width=20,font=my_font1)  #hidden label->get image location\n",
    "\n",
    "testbtn=tk.Button(text=\"Test\",width=20,command=lambda:up())\n",
    "testbtn.grid(row=3,column=1) \n",
    "input_text = tk.Label(windowsform, text=\"\")\n",
    "input_text.grid(row=4,column=1) \n",
    "\n",
    "def upload_file():\n",
    "    global img\n",
    "    f_types = [('Jpg Files', '*.jpg')]\n",
    "    filename = filedialog.askopenfilename(filetypes=f_types)\n",
    "    img=Image.open(filename)\n",
    "    img_resized=img.resize((400,200)) # new width & height\n",
    "    img=ImageTk.PhotoImage(img_resized)\n",
    "    b2 =tk.Button(windowsform,image=img) # using Button \n",
    "    b2.grid(row=5,column=1)\n",
    "    location_text['text']=filename\n",
    "    \n",
    "\n",
    "#load model and input data to model\n",
    "def upload(imgfile):\n",
    "    filepath = 'c:/Users/Potato/modelCarbike.h5' #model location\n",
    "    model = load_model(filepath)\n",
    "    img=cv2.imread(imgfile)\n",
    "    test_image = cv2.resize(img, (100,100))\n",
    "    test_image = img_to_array(test_image)/255\n",
    "    test_image = np.expand_dims(test_image, axis = 0)\n",
    "    result = model.predict(test_image)\n",
    "    pred = np.argmax(result, axis=1) \n",
    "    if pred==0:\n",
    "        return('car')\n",
    "    \n",
    "    elif pred==1:\n",
    "        return ('bike')\n",
    "    else:\n",
    "        return ('Please enter correct image')\n",
    "    \n",
    "def up():\n",
    "    \n",
    "    test=upload(location_text.cget(\"text\"))\n",
    "    lb = tk.Label(windowsform,text=test,width=30,font=my_font1)  \n",
    "    lb.grid(row=7,column=1)\n",
    "\n",
    "\n",
    "windowsform.mainloop() \n",
    "\n",
    "\n"
   ]
  },
  {
   "cell_type": "code",
   "execution_count": null,
   "id": "1e01bd12",
   "metadata": {},
   "outputs": [],
   "source": []
  },
  {
   "cell_type": "code",
   "execution_count": null,
   "id": "3e60dbea",
   "metadata": {},
   "outputs": [],
   "source": []
  }
 ],
 "metadata": {
  "kernelspec": {
   "display_name": "Python 3 (ipykernel)",
   "language": "python",
   "name": "python3"
  },
  "language_info": {
   "codemirror_mode": {
    "name": "ipython",
    "version": 3
   },
   "file_extension": ".py",
   "mimetype": "text/x-python",
   "name": "python",
   "nbconvert_exporter": "python",
   "pygments_lexer": "ipython3",
   "version": "3.9.12"
  }
 },
 "nbformat": 4,
 "nbformat_minor": 5
}
