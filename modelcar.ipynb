{
 "cells": [
  {
   "cell_type": "code",
   "execution_count": 44,
   "id": "1c9f8d16",
   "metadata": {},
   "outputs": [],
   "source": [
    "import tensorflow as tf\n",
    "import numpy as np\n",
    "import matplotlib.pyplot as plt\n",
    "import cv2,sys\n",
    "import os\n",
    "import tensorflow as tf\n",
    "import random\n",
    "import pickle"
   ]
  },
  {
   "cell_type": "code",
   "execution_count": 45,
   "id": "8286cd46",
   "metadata": {},
   "outputs": [],
   "source": [
    "from keras.models import Sequential\n",
    "from keras.layers import Dense,Dropout,Conv2D,MaxPooling2D,Flatten"
   ]
  },
  {
   "cell_type": "code",
   "execution_count": 46,
   "id": "740e8104",
   "metadata": {},
   "outputs": [],
   "source": [
    "Directory='./carbike/image/'\n",
    "labelName=['cars','bike']"
   ]
  },
  {
   "cell_type": "code",
   "execution_count": 40,
   "id": "a5d8c924",
   "metadata": {},
   "outputs": [],
   "source": [
    "IMG_SIZE=100\n",
    "data=[]"
   ]
  },
  {
   "cell_type": "code",
   "execution_count": 47,
   "id": "4f643017",
   "metadata": {},
   "outputs": [],
   "source": [
    "for category in labelName:\n",
    "    folder=os.path.join(Directory,category)\n",
    "    label=labelName.index(category)\n",
    "    for img in os.listdir(folder):\n",
    "        img_path=os.path.join(folder,img)\n",
    "        img_arr=cv2.imread(img_path)\n",
    "        img_arr=cv2.resize(img_arr,(IMG_SIZE,IMG_SIZE))\n",
    "        data.append([img_arr,label])"
   ]
  },
  {
   "cell_type": "code",
   "execution_count": 48,
   "id": "7bb20f1d",
   "metadata": {},
   "outputs": [
    {
     "data": {
      "text/plain": [
       "1594"
      ]
     },
     "execution_count": 48,
     "metadata": {},
     "output_type": "execute_result"
    }
   ],
   "source": [
    "len(data)"
   ]
  },
  {
   "cell_type": "code",
   "execution_count": 49,
   "id": "37dd6324",
   "metadata": {},
   "outputs": [],
   "source": [
    "random.shuffle(data)"
   ]
  },
  {
   "cell_type": "code",
   "execution_count": 50,
   "id": "1f8fc688",
   "metadata": {},
   "outputs": [],
   "source": [
    "X=[]\n",
    "y=[]\n",
    "for features,labels in data:\n",
    "    X.append(features)\n",
    "    y.append(labels)"
   ]
  },
  {
   "cell_type": "code",
   "execution_count": 51,
   "id": "ba6211e3",
   "metadata": {},
   "outputs": [],
   "source": [
    "X=np.array(X)\n",
    "y=np.array(y)"
   ]
  },
  {
   "cell_type": "code",
   "execution_count": 52,
   "id": "ff3c8494",
   "metadata": {},
   "outputs": [],
   "source": [
    "pickle.dump(X,open('X.pkl','wb'))\n",
    "pickle.dump(y,open('y.pkl','wb'))"
   ]
  },
  {
   "cell_type": "code",
   "execution_count": 53,
   "id": "9e273cdc",
   "metadata": {},
   "outputs": [
    {
     "data": {
      "text/plain": [
       "array([array([[[160, 146, 143],\n",
       "               [162, 148, 146],\n",
       "               [168, 154, 152],\n",
       "               ...,\n",
       "               [247, 250, 255],\n",
       "               [247, 250, 255],\n",
       "               [247, 250, 255]],\n",
       "\n",
       "              [[169, 154, 152],\n",
       "               [159, 144, 142],\n",
       "               [175, 160, 158],\n",
       "               ...,\n",
       "               [247, 250, 255],\n",
       "               [247, 250, 255],\n",
       "               [247, 250, 255]],\n",
       "\n",
       "              [[165, 150, 148],\n",
       "               [169, 154, 153],\n",
       "               [168, 153, 151],\n",
       "               ...,\n",
       "               [247, 250, 255],\n",
       "               [247, 250, 255],\n",
       "               [247, 250, 255]],\n",
       "\n",
       "              ...,\n",
       "\n",
       "              [[187, 156, 162],\n",
       "               [199, 174, 176],\n",
       "               [180, 160, 157],\n",
       "               ...,\n",
       "               [220, 226, 238],\n",
       "               [215, 221, 232],\n",
       "               [213, 220, 229]],\n",
       "\n",
       "              [[200, 179, 178],\n",
       "               [193, 175, 174],\n",
       "               [199, 184, 181],\n",
       "               ...,\n",
       "               [219, 225, 236],\n",
       "               [212, 219, 228],\n",
       "               [194, 202, 209]],\n",
       "\n",
       "              [[197, 184, 179],\n",
       "               [195, 184, 178],\n",
       "               [204, 194, 190],\n",
       "               ...,\n",
       "               [180, 185, 194],\n",
       "               [195, 201, 208],\n",
       "               [188, 194, 201]]], dtype=uint8), 0,\n",
       "       array([[[ 36,  40,  76],\n",
       "               [ 38,  39,  83],\n",
       "               [ 39,  39,  85],\n",
       "               ...,\n",
       "               [104, 132, 143],\n",
       "               [102, 130, 141],\n",
       "               [102, 130, 141]],\n",
       "\n",
       "              [[ 32,  34,  75],\n",
       "               [ 34,  35,  79],\n",
       "               [ 36,  36,  82],\n",
       "               ...,\n",
       "               [105, 133, 144],\n",
       "               [103, 131, 142],\n",
       "               [107, 135, 146]],\n",
       "\n",
       "              [[ 30,  29,  76],\n",
       "               [ 33,  31,  79],\n",
       "               [ 35,  33,  79],\n",
       "               ...,\n",
       "               [105, 133, 144],\n",
       "               [104, 132, 143],\n",
       "               [103, 131, 142]],\n",
       "\n",
       "              ...,\n",
       "\n",
       "              [[130, 135, 145],\n",
       "               [135, 140, 149],\n",
       "               [138, 143, 152],\n",
       "               ...,\n",
       "               [150, 152, 162],\n",
       "               [155, 157, 167],\n",
       "               [143, 144, 154]],\n",
       "\n",
       "              [[131, 136, 145],\n",
       "               [135, 140, 149],\n",
       "               [138, 143, 152],\n",
       "               ...,\n",
       "               [149, 150, 160],\n",
       "               [151, 152, 162],\n",
       "               [140, 141, 151]],\n",
       "\n",
       "              [[133, 138, 147],\n",
       "               [138, 143, 152],\n",
       "               [141, 146, 155],\n",
       "               ...,\n",
       "               [147, 148, 158],\n",
       "               [145, 146, 156],\n",
       "               [138, 139, 149]]], dtype=uint8), ..., 1,\n",
       "       array([[[255, 255, 255],\n",
       "               [255, 255, 255],\n",
       "               [255, 255, 255],\n",
       "               ...,\n",
       "               [255, 255, 255],\n",
       "               [255, 255, 255],\n",
       "               [255, 255, 255]],\n",
       "\n",
       "              [[255, 255, 255],\n",
       "               [255, 255, 255],\n",
       "               [255, 255, 255],\n",
       "               ...,\n",
       "               [255, 255, 255],\n",
       "               [255, 255, 255],\n",
       "               [255, 255, 255]],\n",
       "\n",
       "              [[255, 255, 255],\n",
       "               [255, 255, 255],\n",
       "               [255, 255, 255],\n",
       "               ...,\n",
       "               [255, 255, 255],\n",
       "               [255, 255, 255],\n",
       "               [255, 255, 255]],\n",
       "\n",
       "              ...,\n",
       "\n",
       "              [[255, 255, 255],\n",
       "               [255, 255, 255],\n",
       "               [255, 255, 255],\n",
       "               ...,\n",
       "               [252, 252, 252],\n",
       "               [255, 255, 255],\n",
       "               [255, 255, 255]],\n",
       "\n",
       "              [[255, 255, 255],\n",
       "               [255, 255, 255],\n",
       "               [255, 255, 255],\n",
       "               ...,\n",
       "               [254, 254, 254],\n",
       "               [255, 255, 255],\n",
       "               [255, 255, 255]],\n",
       "\n",
       "              [[255, 255, 255],\n",
       "               [255, 255, 255],\n",
       "               [255, 255, 255],\n",
       "               ...,\n",
       "               [255, 255, 255],\n",
       "               [255, 255, 255],\n",
       "               [255, 255, 255]]], dtype=uint8), 1], dtype=object)"
      ]
     },
     "execution_count": 53,
     "metadata": {},
     "output_type": "execute_result"
    }
   ],
   "source": [
    "x"
   ]
  },
  {
   "cell_type": "code",
   "execution_count": null,
   "id": "d6aab7e6",
   "metadata": {},
   "outputs": [],
   "source": []
  }
 ],
 "metadata": {
  "kernelspec": {
   "display_name": "Python 3 (ipykernel)",
   "language": "python",
   "name": "python3"
  },
  "language_info": {
   "codemirror_mode": {
    "name": "ipython",
    "version": 3
   },
   "file_extension": ".py",
   "mimetype": "text/x-python",
   "name": "python",
   "nbconvert_exporter": "python",
   "pygments_lexer": "ipython3",
   "version": "3.9.12"
  }
 },
 "nbformat": 4,
 "nbformat_minor": 5
}
